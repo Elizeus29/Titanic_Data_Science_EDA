{
 "cells": [
  {
   "cell_type": "markdown",
   "metadata": {},
   "source": [
    "# EDA para Titanic\n",
    "* Parte 1: Análisis exploratorio de datos  (EDA):\n",
    "     * 1) Análisis de las características.\n",
    "\n",
    "     * 2) Encontrar cualquier relación o tendencia considerando múltiples características.\n",
    "    \n",
    "\n",
    "* Parte2: Ingeniería de características y limpieza de datos:\n",
    "     * 1) Agregar algunas características.\n",
    "\n",
    "     * 2) Eliminación de funciones redundantes.\n",
    "\n",
    "     * 3) Convertir características en forma adecuada para modelar.\n",
    "Análisis de datos exploratorios Titanic"
   ]
  },
  {
   "cell_type": "code",
   "execution_count": null,
   "metadata": {},
   "outputs": [],
   "source": [
    "import numpy as np  #manejo de vectores y arreglos\n",
    "import pandas as pd #manejo del data frame\n",
    "import matplotlib.pyplot as plt #gráficos\n",
    "import seaborn as sns #gráficos\n",
    "\n",
    "import warnings \n",
    "warnings.filterwarnings('ignore')\n",
    "\n",
    "%matplotlib inline #permite gráficos en en una misma fila"
   ]
  },
  {
   "cell_type": "code",
   "execution_count": 2,
   "metadata": {},
   "outputs": [],
   "source": [
    "data = pd.read_csv('train_titanic.csv')"
   ]
  },
  {
   "cell_type": "code",
   "execution_count": 28,
   "metadata": {},
   "outputs": [
    {
     "data": {
      "text/html": [
       "<div>\n",
       "<style scoped>\n",
       "    .dataframe tbody tr th:only-of-type {\n",
       "        vertical-align: middle;\n",
       "    }\n",
       "\n",
       "    .dataframe tbody tr th {\n",
       "        vertical-align: top;\n",
       "    }\n",
       "\n",
       "    .dataframe thead th {\n",
       "        text-align: right;\n",
       "    }\n",
       "</style>\n",
       "<table border=\"1\" class=\"dataframe\">\n",
       "  <thead>\n",
       "    <tr style=\"text-align: right;\">\n",
       "      <th></th>\n",
       "      <th>PassengerId</th>\n",
       "      <th>Survived</th>\n",
       "      <th>Pclass</th>\n",
       "      <th>Name</th>\n",
       "      <th>Sex</th>\n",
       "      <th>Age</th>\n",
       "      <th>SibSp</th>\n",
       "      <th>Parch</th>\n",
       "      <th>Ticket</th>\n",
       "      <th>Fare</th>\n",
       "      <th>Cabin</th>\n",
       "      <th>Embarked</th>\n",
       "    </tr>\n",
       "  </thead>\n",
       "  <tbody>\n",
       "    <tr>\n",
       "      <td>0</td>\n",
       "      <td>1</td>\n",
       "      <td>0</td>\n",
       "      <td>3</td>\n",
       "      <td>Braund, Mr. Owen Harris</td>\n",
       "      <td>male</td>\n",
       "      <td>22.0</td>\n",
       "      <td>1</td>\n",
       "      <td>0</td>\n",
       "      <td>A/5 21171</td>\n",
       "      <td>7.2500</td>\n",
       "      <td>NaN</td>\n",
       "      <td>S</td>\n",
       "    </tr>\n",
       "    <tr>\n",
       "      <td>1</td>\n",
       "      <td>2</td>\n",
       "      <td>1</td>\n",
       "      <td>1</td>\n",
       "      <td>Cumings, Mrs. John Bradley (Florence Briggs Th...</td>\n",
       "      <td>female</td>\n",
       "      <td>38.0</td>\n",
       "      <td>1</td>\n",
       "      <td>0</td>\n",
       "      <td>PC 17599</td>\n",
       "      <td>71.2833</td>\n",
       "      <td>C85</td>\n",
       "      <td>C</td>\n",
       "    </tr>\n",
       "    <tr>\n",
       "      <td>2</td>\n",
       "      <td>3</td>\n",
       "      <td>1</td>\n",
       "      <td>3</td>\n",
       "      <td>Heikkinen, Miss. Laina</td>\n",
       "      <td>female</td>\n",
       "      <td>26.0</td>\n",
       "      <td>0</td>\n",
       "      <td>0</td>\n",
       "      <td>STON/O2. 3101282</td>\n",
       "      <td>7.9250</td>\n",
       "      <td>NaN</td>\n",
       "      <td>S</td>\n",
       "    </tr>\n",
       "    <tr>\n",
       "      <td>3</td>\n",
       "      <td>4</td>\n",
       "      <td>1</td>\n",
       "      <td>1</td>\n",
       "      <td>Futrelle, Mrs. Jacques Heath (Lily May Peel)</td>\n",
       "      <td>female</td>\n",
       "      <td>35.0</td>\n",
       "      <td>1</td>\n",
       "      <td>0</td>\n",
       "      <td>113803</td>\n",
       "      <td>53.1000</td>\n",
       "      <td>C123</td>\n",
       "      <td>S</td>\n",
       "    </tr>\n",
       "    <tr>\n",
       "      <td>4</td>\n",
       "      <td>5</td>\n",
       "      <td>0</td>\n",
       "      <td>3</td>\n",
       "      <td>Allen, Mr. William Henry</td>\n",
       "      <td>male</td>\n",
       "      <td>35.0</td>\n",
       "      <td>0</td>\n",
       "      <td>0</td>\n",
       "      <td>373450</td>\n",
       "      <td>8.0500</td>\n",
       "      <td>NaN</td>\n",
       "      <td>S</td>\n",
       "    </tr>\n",
       "  </tbody>\n",
       "</table>\n",
       "</div>"
      ],
      "text/plain": [
       "   PassengerId  Survived  Pclass  \\\n",
       "0            1         0       3   \n",
       "1            2         1       1   \n",
       "2            3         1       3   \n",
       "3            4         1       1   \n",
       "4            5         0       3   \n",
       "\n",
       "                                                Name     Sex   Age  SibSp  \\\n",
       "0                            Braund, Mr. Owen Harris    male  22.0      1   \n",
       "1  Cumings, Mrs. John Bradley (Florence Briggs Th...  female  38.0      1   \n",
       "2                             Heikkinen, Miss. Laina  female  26.0      0   \n",
       "3       Futrelle, Mrs. Jacques Heath (Lily May Peel)  female  35.0      1   \n",
       "4                           Allen, Mr. William Henry    male  35.0      0   \n",
       "\n",
       "   Parch            Ticket     Fare Cabin Embarked  \n",
       "0      0         A/5 21171   7.2500   NaN        S  \n",
       "1      0          PC 17599  71.2833   C85        C  \n",
       "2      0  STON/O2. 3101282   7.9250   NaN        S  \n",
       "3      0            113803  53.1000  C123        S  \n",
       "4      0            373450   8.0500   NaN        S  "
      ]
     },
     "execution_count": 28,
     "metadata": {},
     "output_type": "execute_result"
    }
   ],
   "source": [
    "data.head()"
   ]
  },
  {
   "cell_type": "code",
   "execution_count": 14,
   "metadata": {},
   "outputs": [
    {
     "data": {
      "text/plain": [
       "PassengerId      0\n",
       "Survived         0\n",
       "Pclass           0\n",
       "Name             0\n",
       "Sex              0\n",
       "Age            177\n",
       "SibSp            0\n",
       "Parch            0\n",
       "Ticket           0\n",
       "Fare             0\n",
       "Cabin          687\n",
       "Embarked         2\n",
       "dtype: int64"
      ]
     },
     "execution_count": 14,
     "metadata": {},
     "output_type": "execute_result"
    }
   ],
   "source": [
    "#revisar el total de valores nulos\n",
    "data.isnull().sum()\n",
    "\n",
    "#Age, Cabin y Embarked tienen valores nulos. Intentaré arreglarlos"
   ]
  },
  {
   "cell_type": "code",
   "execution_count": 15,
   "metadata": {},
   "outputs": [
    {
     "data": {
      "image/png": "[encoded data removed]",
      "text/plain": [
       "<Figure size 1296x576 with 2 Axes>"
      ]
     },
     "metadata": {
      "needs_background": "light"
     },
     "output_type": "display_data"
    }
   ],
   "source": [
    "#cuántos sobrevivieron?\n",
    "\n",
    "f,ax=plt.subplots(1,2,figsize=(18,8))  #subplots(1 fila, 2 columnas, tamaño) -> grafica en 1 filas 2 gráficos\n",
    "\n",
    "#generamos un gráfico circular con la función \n",
    "#    plot.pie(separación entre colores-opcional, \n",
    "             #formato % , \n",
    "             #ax = ax[columna] -> al inicio definimos 1 fila con 2 columnas  \n",
    "             #shadow = sombra\n",
    "\n",
    "data['Survived'].value_counts().plot.pie(explode=[0,0.1] ,autopct='%1.1f%%',ax=ax[0], shadow = True)\n",
    "\n",
    "ax[0].set_title('Sobrevivientes')  #titulo para el gráfico de la columna 0\n",
    "ax[0].set_ylabel('')               #etiqueta en eje y para el  gráfico de la columna 0\n",
    "\n",
    "#gráfico de barra\n",
    "sns.countplot('Sex', hue = 'Survived', data=data,ax=ax[1]) \n",
    "ax[1].set_title('Survived')\n",
    "plt.show()"
   ]
  },
  {
   "cell_type": "code",
   "execution_count": 16,
   "metadata": {},
   "outputs": [
    {
     "data": {
      "text/plain": [
       "891"
      ]
     },
     "execution_count": 16,
     "metadata": {},
     "output_type": "execute_result"
    }
   ],
   "source": [
    "#interpretemos la información\n",
    "data['PassengerId'].count()"
   ]
  },
  {
   "cell_type": "code",
   "execution_count": 23,
   "metadata": {},
   "outputs": [
    {
     "name": "stdout",
     "output_type": "stream",
     "text": [
      "sobrevivientes : 342\n"
     ]
    }
   ],
   "source": [
    "#revisamos el campo \"sobrevivientes\" contando la cantidad de registros individualmente\n",
    "data['Survived'].value_counts()\n",
    "print(\"sobrevivientes :\" , data[ data['Survived'] == 1 ]['Survived'].count())"
   ]
  },
  {
   "cell_type": "markdown",
   "metadata": {},
   "source": [
    "Interpretación hasta el momento\n",
    "------------------------------------------------------------------------------------------------------\n",
    "De 891 pasajeros en el conjunto de entrenamiento, solo alrededor de 350 sobrevivieron, es decir, \n",
    "solo el 38.4% del conjunto total de entrenamiento sobrevivió al accidente. \n"
   ]
  },
  {
   "cell_type": "markdown",
   "metadata": {},
   "source": [
    "# Análisis de Características\n",
    "\n",
    "Caracteristicas categóricas\n",
    "\n",
    "Una variable categórica es aquella que tiene dos o más categorías y cada valor en esa característica puede clasificarse por ellas. Por ejemplo, el género es una variable categórica que tiene dos categorías (masculina y femenina). No podemos dar ningún orden a tales variables. También se conocen como variables nominales.\n",
    "\n",
    "* **Categorical Features in the dataset: Sex**\n",
    "\n",
    "Características ordinales\n",
    "\n",
    "Una variable ordinal es similar a los valores categóricos, pero la diferencia entre ellos es que podemos tener una ordenación u ordenación relativa entre los valores. Por ejemplo: si tenemos una característica como Altura con valores Alto, Medio, Corto, entonces Altura es una variable ordinal. Aquí podemos tener una ordenación relativa en la variable.\n",
    "\n",
    "* **Ordinal Features in the dataset: PClass**\n",
    "\n",
    "Características continua:\n",
    "\n",
    "Se dice que una característica es continua si puede tomar valores entre dos puntos o entre los valores mínimos o máximos en la columna de características.\n",
    "\n",
    "* **Continous Features in the dataset: Age**"
   ]
  },
  {
   "cell_type": "markdown",
   "metadata": {},
   "source": [
    "# Análisis de Características\n",
    "\n",
    "### analizando variable sexo categórica"
   ]
  },
  {
   "cell_type": "code",
   "execution_count": 8,
   "metadata": {},
   "outputs": [
    {
     "data": {
      "text/plain": [
       "Sex     Survived\n",
       "female  0            81\n",
       "        1           233\n",
       "male    0           468\n",
       "        1           109\n",
       "Name: Survived, dtype: int64"
      ]
     },
     "execution_count": 8,
     "metadata": {},
     "output_type": "execute_result"
    }
   ],
   "source": [
    "#interpretemos la información\n",
    "data['PassengerId'].count()\n",
    "\n",
    "data.groupby(['Sex', 'Survived'])['Survived'].count()"
   ]
  },
  {
   "cell_type": "code",
   "execution_count": 9,
   "metadata": {},
   "outputs": [
    {
     "data": {
      "image/png": "[encoded data removed]",
      "text/plain": [
       "<Figure size 1296x576 with 2 Axes>"
      ]
     },
     "metadata": {
      "needs_background": "light"
     },
     "output_type": "display_data"
    }
   ],
   "source": [
    "#generamos 1 fila y 2 columnas para gráficos\n",
    "f,ax=plt.subplots(1,2,figsize=(18,8))\n",
    "\n",
    "data[['Sex','Survived']].groupby(['Sex']).mean().plot.bar(ax=ax[0])\n",
    "ax[0].set_title('Promedio de Sobrevivientes vs Sexo')\n",
    "\n",
    "sns.countplot('Sex',hue='Survived',data=data,ax=ax[1])\n",
    "ax[1].set_title('Sex:Survived vs Dead')\n",
    "plt.show()"
   ]
  },
  {
   "cell_type": "code",
   "execution_count": 10,
   "metadata": {},
   "outputs": [
    {
     "name": "stdout",
     "output_type": "stream",
     "text": [
      "porcentaje de hombres que sobreviven:  17.54385964912281\n"
     ]
    }
   ],
   "source": [
    "#Esto se ve interesante. El número de hombres en el barco es mucho más que el número de mujeres. Aún así, \n",
    "#el número de mujeres salvadas es casi el doble del número de hombres salvados. \n",
    "#Las tasas de supervivencia para una mujer en el barco es de alrededor del 75%,\n",
    "#mientras que para los hombres en alrededor del 18-19%.\n",
    "#comprobar resultados aproximados\n",
    "#570   100%\n",
    "#100   X\n",
    "print(\"porcentaje de hombres que sobreviven: \" , (100 * 100) / 570)"
   ]
  },
  {
   "cell_type": "markdown",
   "metadata": {},
   "source": [
    "### Analizando variable ordinal PClass "
   ]
  },
  {
   "cell_type": "code",
   "execution_count": 11,
   "metadata": {},
   "outputs": [
    {
     "data": {
      "text/html": [
       "<style  type=\"text/css\" >\n",
       "    #T_0df912be_901c_11ea_9504_606dc7cc25dcrow0_col0 {\n",
       "            background-color:  #ffff66;\n",
       "            color:  #000000;\n",
       "        }    #T_0df912be_901c_11ea_9504_606dc7cc25dcrow0_col1 {\n",
       "            background-color:  #cee666;\n",
       "            color:  #000000;\n",
       "        }    #T_0df912be_901c_11ea_9504_606dc7cc25dcrow0_col2 {\n",
       "            background-color:  #f4fa66;\n",
       "            color:  #000000;\n",
       "        }    #T_0df912be_901c_11ea_9504_606dc7cc25dcrow1_col0 {\n",
       "            background-color:  #f6fa66;\n",
       "            color:  #000000;\n",
       "        }    #T_0df912be_901c_11ea_9504_606dc7cc25dcrow1_col1 {\n",
       "            background-color:  #ffff66;\n",
       "            color:  #000000;\n",
       "        }    #T_0df912be_901c_11ea_9504_606dc7cc25dcrow1_col2 {\n",
       "            background-color:  #ffff66;\n",
       "            color:  #000000;\n",
       "        }    #T_0df912be_901c_11ea_9504_606dc7cc25dcrow2_col0 {\n",
       "            background-color:  #60b066;\n",
       "            color:  #000000;\n",
       "        }    #T_0df912be_901c_11ea_9504_606dc7cc25dcrow2_col1 {\n",
       "            background-color:  #dfef66;\n",
       "            color:  #000000;\n",
       "        }    #T_0df912be_901c_11ea_9504_606dc7cc25dcrow2_col2 {\n",
       "            background-color:  #90c866;\n",
       "            color:  #000000;\n",
       "        }    #T_0df912be_901c_11ea_9504_606dc7cc25dcrow3_col0 {\n",
       "            background-color:  #008066;\n",
       "            color:  #f1f1f1;\n",
       "        }    #T_0df912be_901c_11ea_9504_606dc7cc25dcrow3_col1 {\n",
       "            background-color:  #008066;\n",
       "            color:  #f1f1f1;\n",
       "        }    #T_0df912be_901c_11ea_9504_606dc7cc25dcrow3_col2 {\n",
       "            background-color:  #008066;\n",
       "            color:  #f1f1f1;\n",
       "        }</style><table id=\"T_0df912be_901c_11ea_9504_606dc7cc25dc\" ><thead>    <tr>        <th class=\"index_name level0\" >Survived</th>        <th class=\"col_heading level0 col0\" >0</th>        <th class=\"col_heading level0 col1\" >1</th>        <th class=\"col_heading level0 col2\" >All</th>    </tr>    <tr>        <th class=\"index_name level0\" >Pclass</th>        <th class=\"blank\" ></th>        <th class=\"blank\" ></th>        <th class=\"blank\" ></th>    </tr></thead><tbody>\n",
       "                <tr>\n",
       "                        <th id=\"T_0df912be_901c_11ea_9504_606dc7cc25dclevel0_row0\" class=\"row_heading level0 row0\" >1</th>\n",
       "                        <td id=\"T_0df912be_901c_11ea_9504_606dc7cc25dcrow0_col0\" class=\"data row0 col0\" >80</td>\n",
       "                        <td id=\"T_0df912be_901c_11ea_9504_606dc7cc25dcrow0_col1\" class=\"data row0 col1\" >136</td>\n",
       "                        <td id=\"T_0df912be_901c_11ea_9504_606dc7cc25dcrow0_col2\" class=\"data row0 col2\" >216</td>\n",
       "            </tr>\n",
       "            <tr>\n",
       "                        <th id=\"T_0df912be_901c_11ea_9504_606dc7cc25dclevel0_row1\" class=\"row_heading level0 row1\" >2</th>\n",
       "                        <td id=\"T_0df912be_901c_11ea_9504_606dc7cc25dcrow1_col0\" class=\"data row1 col0\" >97</td>\n",
       "                        <td id=\"T_0df912be_901c_11ea_9504_606dc7cc25dcrow1_col1\" class=\"data row1 col1\" >87</td>\n",
       "                        <td id=\"T_0df912be_901c_11ea_9504_606dc7cc25dcrow1_col2\" class=\"data row1 col2\" >184</td>\n",
       "            </tr>\n",
       "            <tr>\n",
       "                        <th id=\"T_0df912be_901c_11ea_9504_606dc7cc25dclevel0_row2\" class=\"row_heading level0 row2\" >3</th>\n",
       "                        <td id=\"T_0df912be_901c_11ea_9504_606dc7cc25dcrow2_col0\" class=\"data row2 col0\" >372</td>\n",
       "                        <td id=\"T_0df912be_901c_11ea_9504_606dc7cc25dcrow2_col1\" class=\"data row2 col1\" >119</td>\n",
       "                        <td id=\"T_0df912be_901c_11ea_9504_606dc7cc25dcrow2_col2\" class=\"data row2 col2\" >491</td>\n",
       "            </tr>\n",
       "            <tr>\n",
       "                        <th id=\"T_0df912be_901c_11ea_9504_606dc7cc25dclevel0_row3\" class=\"row_heading level0 row3\" >All</th>\n",
       "                        <td id=\"T_0df912be_901c_11ea_9504_606dc7cc25dcrow3_col0\" class=\"data row3 col0\" >549</td>\n",
       "                        <td id=\"T_0df912be_901c_11ea_9504_606dc7cc25dcrow3_col1\" class=\"data row3 col1\" >342</td>\n",
       "                        <td id=\"T_0df912be_901c_11ea_9504_606dc7cc25dcrow3_col2\" class=\"data row3 col2\" >891</td>\n",
       "            </tr>\n",
       "    </tbody></table>"
      ],
      "text/plain": [
       "<pandas.io.formats.style.Styler at 0x171318132c8>"
      ]
     },
     "execution_count": 11,
     "metadata": {},
     "output_type": "execute_result"
    }
   ],
   "source": [
    "#comparamos el campo PClass con la supervivencia\n",
    "\n",
    "# margins= True muestra la suma de los resultados por filas y columnas\n",
    "# style.background_gradient(cmap='summer_r') agrupa por color\n",
    "\n",
    "pd.crosstab(data['Pclass'],data['Survived'],margins=True).style.background_gradient(cmap='summer_r')\n"
   ]
  },
  {
   "cell_type": "code",
   "execution_count": 12,
   "metadata": {},
   "outputs": [
    {
     "name": "stdout",
     "output_type": "stream",
     "text": [
      "total de personas :  891\n"
     ]
    }
   ],
   "source": [
    "#comprobamos el el total corresponde a la cantidad de personas por clase\n",
    "print(\"total de personas : \", data['Pclass'].count())"
   ]
  },
  {
   "cell_type": "code",
   "execution_count": 13,
   "metadata": {},
   "outputs": [
    {
     "data": {
      "image/png": "[encoded data removed]",
      "text/plain": [
       "<Figure size 1296x576 with 2 Axes>"
      ]
     },
     "metadata": {
      "needs_background": "light"
     },
     "output_type": "display_data"
    }
   ],
   "source": [
    "f,ax=plt.subplots(1,2,figsize=(18,8))\n",
    "data['Pclass'].value_counts().plot.bar(color=['#CD7F32','#FFDF00','#D3D3D3'],ax=ax[0])\n",
    "ax[0].set_title('Cantidad de pasajeros por clase')\n",
    "ax[0].set_ylabel('Cantidad')\n",
    "\n",
    "sns.countplot('Pclass',hue='Survived',data=data,ax=ax[1])\n",
    "ax[1].set_title('Pclass:Sobrevivientes vs Muertos')\n",
    "ax[1].set_ylabel('Cantidad')\n",
    "plt.show()"
   ]
  },
  {
   "cell_type": "markdown",
   "metadata": {},
   "source": [
    "La gente dice que el dinero no puede comprarlo todo. Pero podemos ver claramente que Passenegers Of Pclass 1 recibió una prioridad muy alta durante el rescate. A pesar de que la cantidad de Pasajeros en la Clase 3 fue mucho mayor, la supervivencia de ellos es muy baja, alrededor del 25%.\n",
    "\n",
    "Para Pclass, el 1% sobrevivido es de alrededor del 63%, mientras que para Pclass2 es de alrededor del 48%. Entonces el dinero y el estado son importantes. Un mundo tan materialista.\n",
    "\n",
    "Vamos a sumergirnos un poco más y buscar otras observaciones interesantes. Vamos a comprobar la tasa de supervivencia con Sex and Pclass "
   ]
  },
  {
   "cell_type": "markdown",
   "metadata": {},
   "source": [
    "### Analizar la tasa de supervivencia según sexo y clase"
   ]
  },
  {
   "cell_type": "code",
   "execution_count": 14,
   "metadata": {},
   "outputs": [
    {
     "data": {
      "text/html": [
       "<style  type=\"text/css\" >\n",
       "    #T_12f7280c_901c_11ea_ac6f_606dc7cc25dcrow0_col0 {\n",
       "            background-color:  #ffff66;\n",
       "            color:  #000000;\n",
       "        }    #T_12f7280c_901c_11ea_ac6f_606dc7cc25dcrow0_col1 {\n",
       "            background-color:  #ffff66;\n",
       "            color:  #000000;\n",
       "        }    #T_12f7280c_901c_11ea_ac6f_606dc7cc25dcrow0_col2 {\n",
       "            background-color:  #f1f866;\n",
       "            color:  #000000;\n",
       "        }    #T_12f7280c_901c_11ea_ac6f_606dc7cc25dcrow0_col3 {\n",
       "            background-color:  #ffff66;\n",
       "            color:  #000000;\n",
       "        }    #T_12f7280c_901c_11ea_ac6f_606dc7cc25dcrow1_col0 {\n",
       "            background-color:  #96cb66;\n",
       "            color:  #000000;\n",
       "        }    #T_12f7280c_901c_11ea_ac6f_606dc7cc25dcrow1_col1 {\n",
       "            background-color:  #a3d166;\n",
       "            color:  #000000;\n",
       "        }    #T_12f7280c_901c_11ea_ac6f_606dc7cc25dcrow1_col2 {\n",
       "            background-color:  #f1f866;\n",
       "            color:  #000000;\n",
       "        }    #T_12f7280c_901c_11ea_ac6f_606dc7cc25dcrow1_col3 {\n",
       "            background-color:  #cfe766;\n",
       "            color:  #000000;\n",
       "        }    #T_12f7280c_901c_11ea_ac6f_606dc7cc25dcrow2_col0 {\n",
       "            background-color:  #a7d366;\n",
       "            color:  #000000;\n",
       "        }    #T_12f7280c_901c_11ea_ac6f_606dc7cc25dcrow2_col1 {\n",
       "            background-color:  #85c266;\n",
       "            color:  #000000;\n",
       "        }    #T_12f7280c_901c_11ea_ac6f_606dc7cc25dcrow2_col2 {\n",
       "            background-color:  #6eb666;\n",
       "            color:  #000000;\n",
       "        }    #T_12f7280c_901c_11ea_ac6f_606dc7cc25dcrow2_col3 {\n",
       "            background-color:  #85c266;\n",
       "            color:  #000000;\n",
       "        }    #T_12f7280c_901c_11ea_ac6f_606dc7cc25dcrow3_col0 {\n",
       "            background-color:  #cde666;\n",
       "            color:  #000000;\n",
       "        }    #T_12f7280c_901c_11ea_ac6f_606dc7cc25dcrow3_col1 {\n",
       "            background-color:  #f0f866;\n",
       "            color:  #000000;\n",
       "        }    #T_12f7280c_901c_11ea_ac6f_606dc7cc25dcrow3_col2 {\n",
       "            background-color:  #ffff66;\n",
       "            color:  #000000;\n",
       "        }    #T_12f7280c_901c_11ea_ac6f_606dc7cc25dcrow3_col3 {\n",
       "            background-color:  #f7fb66;\n",
       "            color:  #000000;\n",
       "        }    #T_12f7280c_901c_11ea_ac6f_606dc7cc25dcrow4_col0 {\n",
       "            background-color:  #008066;\n",
       "            color:  #f1f1f1;\n",
       "        }    #T_12f7280c_901c_11ea_ac6f_606dc7cc25dcrow4_col1 {\n",
       "            background-color:  #008066;\n",
       "            color:  #f1f1f1;\n",
       "        }    #T_12f7280c_901c_11ea_ac6f_606dc7cc25dcrow4_col2 {\n",
       "            background-color:  #008066;\n",
       "            color:  #f1f1f1;\n",
       "        }    #T_12f7280c_901c_11ea_ac6f_606dc7cc25dcrow4_col3 {\n",
       "            background-color:  #008066;\n",
       "            color:  #f1f1f1;\n",
       "        }</style><table id=\"T_12f7280c_901c_11ea_ac6f_606dc7cc25dc\" ><thead>    <tr>        <th class=\"blank\" ></th>        <th class=\"index_name level0\" >Pclass</th>        <th class=\"col_heading level0 col0\" >1</th>        <th class=\"col_heading level0 col1\" >2</th>        <th class=\"col_heading level0 col2\" >3</th>        <th class=\"col_heading level0 col3\" >All</th>    </tr>    <tr>        <th class=\"index_name level0\" >Sex</th>        <th class=\"index_name level1\" >Survived</th>        <th class=\"blank\" ></th>        <th class=\"blank\" ></th>        <th class=\"blank\" ></th>        <th class=\"blank\" ></th>    </tr></thead><tbody>\n",
       "                <tr>\n",
       "                        <th id=\"T_12f7280c_901c_11ea_ac6f_606dc7cc25dclevel0_row0\" class=\"row_heading level0 row0\" rowspan=2>female</th>\n",
       "                        <th id=\"T_12f7280c_901c_11ea_ac6f_606dc7cc25dclevel1_row0\" class=\"row_heading level1 row0\" >0</th>\n",
       "                        <td id=\"T_12f7280c_901c_11ea_ac6f_606dc7cc25dcrow0_col0\" class=\"data row0 col0\" >3</td>\n",
       "                        <td id=\"T_12f7280c_901c_11ea_ac6f_606dc7cc25dcrow0_col1\" class=\"data row0 col1\" >6</td>\n",
       "                        <td id=\"T_12f7280c_901c_11ea_ac6f_606dc7cc25dcrow0_col2\" class=\"data row0 col2\" >72</td>\n",
       "                        <td id=\"T_12f7280c_901c_11ea_ac6f_606dc7cc25dcrow0_col3\" class=\"data row0 col3\" >81</td>\n",
       "            </tr>\n",
       "            <tr>\n",
       "                                <th id=\"T_12f7280c_901c_11ea_ac6f_606dc7cc25dclevel1_row1\" class=\"row_heading level1 row1\" >1</th>\n",
       "                        <td id=\"T_12f7280c_901c_11ea_ac6f_606dc7cc25dcrow1_col0\" class=\"data row1 col0\" >91</td>\n",
       "                        <td id=\"T_12f7280c_901c_11ea_ac6f_606dc7cc25dcrow1_col1\" class=\"data row1 col1\" >70</td>\n",
       "                        <td id=\"T_12f7280c_901c_11ea_ac6f_606dc7cc25dcrow1_col2\" class=\"data row1 col2\" >72</td>\n",
       "                        <td id=\"T_12f7280c_901c_11ea_ac6f_606dc7cc25dcrow1_col3\" class=\"data row1 col3\" >233</td>\n",
       "            </tr>\n",
       "            <tr>\n",
       "                        <th id=\"T_12f7280c_901c_11ea_ac6f_606dc7cc25dclevel0_row2\" class=\"row_heading level0 row2\" rowspan=2>male</th>\n",
       "                        <th id=\"T_12f7280c_901c_11ea_ac6f_606dc7cc25dclevel1_row2\" class=\"row_heading level1 row2\" >0</th>\n",
       "                        <td id=\"T_12f7280c_901c_11ea_ac6f_606dc7cc25dcrow2_col0\" class=\"data row2 col0\" >77</td>\n",
       "                        <td id=\"T_12f7280c_901c_11ea_ac6f_606dc7cc25dcrow2_col1\" class=\"data row2 col1\" >91</td>\n",
       "                        <td id=\"T_12f7280c_901c_11ea_ac6f_606dc7cc25dcrow2_col2\" class=\"data row2 col2\" >300</td>\n",
       "                        <td id=\"T_12f7280c_901c_11ea_ac6f_606dc7cc25dcrow2_col3\" class=\"data row2 col3\" >468</td>\n",
       "            </tr>\n",
       "            <tr>\n",
       "                                <th id=\"T_12f7280c_901c_11ea_ac6f_606dc7cc25dclevel1_row3\" class=\"row_heading level1 row3\" >1</th>\n",
       "                        <td id=\"T_12f7280c_901c_11ea_ac6f_606dc7cc25dcrow3_col0\" class=\"data row3 col0\" >45</td>\n",
       "                        <td id=\"T_12f7280c_901c_11ea_ac6f_606dc7cc25dcrow3_col1\" class=\"data row3 col1\" >17</td>\n",
       "                        <td id=\"T_12f7280c_901c_11ea_ac6f_606dc7cc25dcrow3_col2\" class=\"data row3 col2\" >47</td>\n",
       "                        <td id=\"T_12f7280c_901c_11ea_ac6f_606dc7cc25dcrow3_col3\" class=\"data row3 col3\" >109</td>\n",
       "            </tr>\n",
       "            <tr>\n",
       "                        <th id=\"T_12f7280c_901c_11ea_ac6f_606dc7cc25dclevel0_row4\" class=\"row_heading level0 row4\" >All</th>\n",
       "                        <th id=\"T_12f7280c_901c_11ea_ac6f_606dc7cc25dclevel1_row4\" class=\"row_heading level1 row4\" ></th>\n",
       "                        <td id=\"T_12f7280c_901c_11ea_ac6f_606dc7cc25dcrow4_col0\" class=\"data row4 col0\" >216</td>\n",
       "                        <td id=\"T_12f7280c_901c_11ea_ac6f_606dc7cc25dcrow4_col1\" class=\"data row4 col1\" >184</td>\n",
       "                        <td id=\"T_12f7280c_901c_11ea_ac6f_606dc7cc25dcrow4_col2\" class=\"data row4 col2\" >491</td>\n",
       "                        <td id=\"T_12f7280c_901c_11ea_ac6f_606dc7cc25dcrow4_col3\" class=\"data row4 col3\" >891</td>\n",
       "            </tr>\n",
       "    </tbody></table>"
      ],
      "text/plain": [
       "<pandas.io.formats.style.Styler at 0x1713186fe48>"
      ]
     },
     "execution_count": 14,
     "metadata": {},
     "output_type": "execute_result"
    }
   ],
   "source": [
    "pd.crosstab([data.Sex,data.Survived],data.Pclass,margins=True).style.background_gradient(cmap='summer_r')"
   ]
  },
  {
   "cell_type": "code",
   "execution_count": 15,
   "metadata": {},
   "outputs": [
    {
     "data": {
      "image/png": "[encoded data removed]",
      "text/plain": [
       "<Figure size 430.5x360 with 1 Axes>"
      ]
     },
     "metadata": {
      "needs_background": "light"
     },
     "output_type": "display_data"
    }
   ],
   "source": [
    "#Usamos FactorPlot en este caso, porque facilitan la separación de valores categóricos.\n",
    "sns.factorplot('Pclass','Survived',hue='Sex',data=data)\n",
    "plt.show()\n",
    "\n",
    "#Mirando el CrossTab y el FactorPlot, podemos inferir fácilmente que la supervivencia de las \n",
    "#mujeres de primera clase es de aproximadamente 95-96%, ya que solo 3 de 94 mujeres de esa clase murieron.\n",
    "\n",
    "#Es evidente que, independientemente de la clase, las mujeres recibieron la primera prioridad durante el rescate.\n",
    "#Incluso los hombres de primera clase tienen una tasa de supervivencia muy baja"
   ]
  },
  {
   "cell_type": "markdown",
   "metadata": {},
   "source": [
    "### Analizando  el pasaje (característica continua)"
   ]
  },
  {
   "cell_type": "code",
   "execution_count": 16,
   "metadata": {},
   "outputs": [
    {
     "name": "stdout",
     "output_type": "stream",
     "text": [
      "El pasaje más alto fue : 512.3292\n",
      "El pasaje más bajo fue : 0.0\n",
      "El pasaje promedio fue : 32.2042079685746\n"
     ]
    }
   ],
   "source": [
    "print('El pasaje más alto fue :',data['Fare'].max())\n",
    "print('El pasaje más bajo fue :',data['Fare'].min())\n",
    "print('El pasaje promedio fue :',data['Fare'].mean())\n",
    "\n",
    "#El pasaje más bajo es 0.0. ¡¡Guau!! un paseo lujoso gratis"
   ]
  },
  {
   "cell_type": "code",
   "execution_count": 17,
   "metadata": {},
   "outputs": [
    {
     "data": {
      "image/png": "[encoded data removed]",
      "text/plain": [
       "<Figure size 1440x576 with 3 Axes>"
      ]
     },
     "metadata": {
      "needs_background": "light"
     },
     "output_type": "display_data"
    }
   ],
   "source": [
    "f,ax=plt.subplots(1,3,figsize=(20,8))\n",
    "sns.distplot(data[data['Pclass']==1].Fare,ax=ax[0])\n",
    "\n",
    "ax[0].set_title('Pasajes en primera clase')\n",
    "sns.distplot(data[data['Pclass']==2].Fare,ax=ax[1])\n",
    "\n",
    "ax[1].set_title('Pasajes en segunda clase')\n",
    "sns.distplot(data[data['Pclass']==3].Fare,ax=ax[2])\n",
    "\n",
    "ax[2].set_title('Pasajes en tercera clase')\n",
    "plt.show()\n",
    "\n",
    "#Parece que hay una gran distribución en los Pasajes de Pasajeros en primera clase y esta distribución \n",
    "#continúa disminuyendo a medida que se reducen los estándares. Como esto también es continuo, \n",
    "#podemos convertir en valores discretos usando binning.\n"
   ]
  },
  {
   "cell_type": "markdown",
   "metadata": {},
   "source": [
    "##### EN RESUMEN A NIVEL GENERAL DE LO ENCONTRADO\n",
    "\n",
    "Sexo: la posibilidad de supervivencia para las mujeres es alta en comparación con los hombres.\n",
    "\n",
    "Pclass: hay una tendencia visible de que ser un pasajero de primera clase le brinda mejores posibilidades de supervivencia. La tasa de supervivencia para Pclass3 es muy baja. Para las mujeres, la probabilidad de supervivencia de Pclass1 es casi 1 y también es alta para las de Pclass2. ¡El dinero gana!"
   ]
  },
  {
   "cell_type": "markdown",
   "metadata": {},
   "source": [
    "### Limpieza de datos\n",
    "\n",
    "* Convertir algunas variables continuas en rangos.\n",
    "* Convertir valores String en valores numéricos.\n",
    "* Eliminar características innecesarias \n",
    "* Corregir valores nulos.\n",
    "\n",
    "\n",
    "\n",
    "\n",
    "No es necesario que todas las características sean importantes. Puede haber muchas características redundantes que deberían eliminarse.\n",
    "\n",
    "* **Problema con la característica de edad:**\n",
    "\n",
    "Como mencioné anteriormente, la edad es una característica continua, existe un problema con las variables continuas en los modelos de aprendizaje automático.\n",
    "\n",
    "Por ejemplo: si digo agrupar u organizar a un deportista por sexo, podemos segregarlo fácilmente por hombre y mujer.\n",
    "\n",
    "Ahora, si digo agruparlos por edad, ¿cómo lo harías? Si hay 30 personas, puede haber 30 valores de edad. Ahora esto es problemático.\n",
    "\n",
    "Necesitamos convertir estos valores continuos en valores categóricos mediante Binning o Normalization. Usaré binning, es decir, agrupar un rango de edades en un único bin o asignarles un solo valor.\n",
    "\n",
    "De acuerdo, la edad máxima de un pasajero era de 80 años. Así que dividamos el rango de 0 a 80 en 5 compartimientos. Entonces 80/5 = 16. Entonces contenedores de tamaño 16.\n"
   ]
  },
  {
   "cell_type": "code",
   "execution_count": 18,
   "metadata": {},
   "outputs": [
    {
     "data": {
      "text/html": [
       "<div>\n",
       "<style scoped>\n",
       "    .dataframe tbody tr th:only-of-type {\n",
       "        vertical-align: middle;\n",
       "    }\n",
       "\n",
       "    .dataframe tbody tr th {\n",
       "        vertical-align: top;\n",
       "    }\n",
       "\n",
       "    .dataframe thead th {\n",
       "        text-align: right;\n",
       "    }\n",
       "</style>\n",
       "<table border=\"1\" class=\"dataframe\">\n",
       "  <thead>\n",
       "    <tr style=\"text-align: right;\">\n",
       "      <th></th>\n",
       "      <th>PassengerId</th>\n",
       "      <th>Survived</th>\n",
       "      <th>Pclass</th>\n",
       "      <th>Name</th>\n",
       "      <th>Sex</th>\n",
       "      <th>Age</th>\n",
       "      <th>SibSp</th>\n",
       "      <th>Parch</th>\n",
       "      <th>Ticket</th>\n",
       "      <th>Fare</th>\n",
       "      <th>Cabin</th>\n",
       "      <th>Embarked</th>\n",
       "      <th>Rango_de_edad</th>\n",
       "    </tr>\n",
       "  </thead>\n",
       "  <tbody>\n",
       "    <tr>\n",
       "      <td>0</td>\n",
       "      <td>1</td>\n",
       "      <td>0</td>\n",
       "      <td>3</td>\n",
       "      <td>Braund, Mr. Owen Harris</td>\n",
       "      <td>male</td>\n",
       "      <td>22.0</td>\n",
       "      <td>1</td>\n",
       "      <td>0</td>\n",
       "      <td>A/5 21171</td>\n",
       "      <td>7.2500</td>\n",
       "      <td>NaN</td>\n",
       "      <td>S</td>\n",
       "      <td>1</td>\n",
       "    </tr>\n",
       "    <tr>\n",
       "      <td>1</td>\n",
       "      <td>2</td>\n",
       "      <td>1</td>\n",
       "      <td>1</td>\n",
       "      <td>Cumings, Mrs. John Bradley (Florence Briggs Th...</td>\n",
       "      <td>female</td>\n",
       "      <td>38.0</td>\n",
       "      <td>1</td>\n",
       "      <td>0</td>\n",
       "      <td>PC 17599</td>\n",
       "      <td>71.2833</td>\n",
       "      <td>C85</td>\n",
       "      <td>C</td>\n",
       "      <td>2</td>\n",
       "    </tr>\n",
       "  </tbody>\n",
       "</table>\n",
       "</div>"
      ],
      "text/plain": [
       "   PassengerId  Survived  Pclass  \\\n",
       "0            1         0       3   \n",
       "1            2         1       1   \n",
       "\n",
       "                                                Name     Sex   Age  SibSp  \\\n",
       "0                            Braund, Mr. Owen Harris    male  22.0      1   \n",
       "1  Cumings, Mrs. John Bradley (Florence Briggs Th...  female  38.0      1   \n",
       "\n",
       "   Parch     Ticket     Fare Cabin Embarked  Rango_de_edad  \n",
       "0      0  A/5 21171   7.2500   NaN        S              1  \n",
       "1      0   PC 17599  71.2833   C85        C              2  "
      ]
     },
     "execution_count": 18,
     "metadata": {},
     "output_type": "execute_result"
    }
   ],
   "source": [
    "#creamos una nueva columna en el DataFrame llamada \n",
    "data['Rango_de_edad']=0\n",
    "data.loc[data['Age']<=16,'Rango_de_edad']=0\n",
    "data.loc[(data['Age']>16)&(data['Age']<=32),'Rango_de_edad']=1\n",
    "data.loc[(data['Age']>32)&(data['Age']<=48),'Rango_de_edad']=2\n",
    "data.loc[(data['Age']>48)&(data['Age']<=64),'Rango_de_edad']=3\n",
    "data.loc[data['Age']>64,'Rango_de_edad']=4\n",
    "data.head(2)"
   ]
  },
  {
   "cell_type": "code",
   "execution_count": 19,
   "metadata": {},
   "outputs": [
    {
     "data": {
      "text/html": [
       "<style  type=\"text/css\" >\n",
       "    #T_184eb468_901c_11ea_8bf5_606dc7cc25dcrow0_col0 {\n",
       "            background-color:  #ffff66;\n",
       "            color:  #000000;\n",
       "        }    #T_184eb468_901c_11ea_8bf5_606dc7cc25dcrow1_col0 {\n",
       "            background-color:  #cbe566;\n",
       "            color:  #000000;\n",
       "        }    #T_184eb468_901c_11ea_8bf5_606dc7cc25dcrow2_col0 {\n",
       "            background-color:  #87c366;\n",
       "            color:  #000000;\n",
       "        }    #T_184eb468_901c_11ea_8bf5_606dc7cc25dcrow3_col0 {\n",
       "            background-color:  #2c9666;\n",
       "            color:  #000000;\n",
       "        }    #T_184eb468_901c_11ea_8bf5_606dc7cc25dcrow4_col0 {\n",
       "            background-color:  #008066;\n",
       "            color:  #f1f1f1;\n",
       "        }</style><table id=\"T_184eb468_901c_11ea_8bf5_606dc7cc25dc\" ><thead>    <tr>        <th class=\"blank level0\" ></th>        <th class=\"col_heading level0 col0\" >Rango_de_edad</th>    </tr></thead><tbody>\n",
       "                <tr>\n",
       "                        <th id=\"T_184eb468_901c_11ea_8bf5_606dc7cc25dclevel0_row0\" class=\"row_heading level0 row0\" >1</th>\n",
       "                        <td id=\"T_184eb468_901c_11ea_8bf5_606dc7cc25dcrow0_col0\" class=\"data row0 col0\" >346</td>\n",
       "            </tr>\n",
       "            <tr>\n",
       "                        <th id=\"T_184eb468_901c_11ea_8bf5_606dc7cc25dclevel0_row1\" class=\"row_heading level0 row1\" >0</th>\n",
       "                        <td id=\"T_184eb468_901c_11ea_8bf5_606dc7cc25dcrow1_col0\" class=\"data row1 col0\" >277</td>\n",
       "            </tr>\n",
       "            <tr>\n",
       "                        <th id=\"T_184eb468_901c_11ea_8bf5_606dc7cc25dclevel0_row2\" class=\"row_heading level0 row2\" >2</th>\n",
       "                        <td id=\"T_184eb468_901c_11ea_8bf5_606dc7cc25dcrow2_col0\" class=\"data row2 col0\" >188</td>\n",
       "            </tr>\n",
       "            <tr>\n",
       "                        <th id=\"T_184eb468_901c_11ea_8bf5_606dc7cc25dclevel0_row3\" class=\"row_heading level0 row3\" >3</th>\n",
       "                        <td id=\"T_184eb468_901c_11ea_8bf5_606dc7cc25dcrow3_col0\" class=\"data row3 col0\" >69</td>\n",
       "            </tr>\n",
       "            <tr>\n",
       "                        <th id=\"T_184eb468_901c_11ea_8bf5_606dc7cc25dclevel0_row4\" class=\"row_heading level0 row4\" >4</th>\n",
       "                        <td id=\"T_184eb468_901c_11ea_8bf5_606dc7cc25dcrow4_col0\" class=\"data row4 col0\" >11</td>\n",
       "            </tr>\n",
       "    </tbody></table>"
      ],
      "text/plain": [
       "<pandas.io.formats.style.Styler at 0x171322bd508>"
      ]
     },
     "execution_count": 19,
     "metadata": {},
     "output_type": "execute_result"
    }
   ],
   "source": [
    "#comprobar el número de pasajeros en cada banda\n",
    "data['Rango_de_edad'].value_counts().to_frame().style.background_gradient(cmap='summer')\n",
    "\n"
   ]
  },
  {
   "cell_type": "code",
   "execution_count": 20,
   "metadata": {},
   "outputs": [
    {
     "data": {
      "image/png": "[encoded data removed]",
      "text/plain": [
       "<Figure size 1080x360 with 3 Axes>"
      ]
     },
     "metadata": {
      "needs_background": "light"
     },
     "output_type": "display_data"
    }
   ],
   "source": [
    "#podemos observar que la tasa de supervivencia disminuye a medida que aumenta la edad, independientemente de la clase\n",
    "sns.factorplot('Rango_de_edad','Survived',data=data,col='Pclass')\n",
    "plt.show()"
   ]
  },
  {
   "cell_type": "markdown",
   "metadata": {},
   "source": [
    "* **Problemas con la característica del pasaje**\n",
    "\n",
    "Como el pasaje también es una característica continua, debemos convertirla en un valor ordinal. \n",
    "Para esto usaremos pandas.qcut.\n",
    "\n",
    "Entonces, lo que qcut hace es dividir u organizar los valores de acuerdo con el número de bins que hemos pasado. Entonces, si pasamos por 5 bins, organizará los valores igualmente espaciados en 5 bins separados o rangos de valores."
   ]
  },
  {
   "cell_type": "code",
   "execution_count": 21,
   "metadata": {
    "scrolled": true
   },
   "outputs": [
    {
     "data": {
      "text/html": [
       "<style  type=\"text/css\" >\n",
       "    #T_1ae21194_901c_11ea_a05d_606dc7cc25dcrow0_col0 {\n",
       "            background-color:  #ffff66;\n",
       "            color:  #000000;\n",
       "        }    #T_1ae21194_901c_11ea_a05d_606dc7cc25dcrow1_col0 {\n",
       "            background-color:  #b9dc66;\n",
       "            color:  #000000;\n",
       "        }    #T_1ae21194_901c_11ea_a05d_606dc7cc25dcrow2_col0 {\n",
       "            background-color:  #54aa66;\n",
       "            color:  #000000;\n",
       "        }    #T_1ae21194_901c_11ea_a05d_606dc7cc25dcrow3_col0 {\n",
       "            background-color:  #008066;\n",
       "            color:  #f1f1f1;\n",
       "        }</style><table id=\"T_1ae21194_901c_11ea_a05d_606dc7cc25dc\" ><thead>    <tr>        <th class=\"blank level0\" ></th>        <th class=\"col_heading level0 col0\" >Survived</th>    </tr>    <tr>        <th class=\"index_name level0\" >Rango_pasaje</th>        <th class=\"blank\" ></th>    </tr></thead><tbody>\n",
       "                <tr>\n",
       "                        <th id=\"T_1ae21194_901c_11ea_a05d_606dc7cc25dclevel0_row0\" class=\"row_heading level0 row0\" >(-0.001, 7.91]</th>\n",
       "                        <td id=\"T_1ae21194_901c_11ea_a05d_606dc7cc25dcrow0_col0\" class=\"data row0 col0\" >0.197309</td>\n",
       "            </tr>\n",
       "            <tr>\n",
       "                        <th id=\"T_1ae21194_901c_11ea_a05d_606dc7cc25dclevel0_row1\" class=\"row_heading level0 row1\" >(7.91, 14.454]</th>\n",
       "                        <td id=\"T_1ae21194_901c_11ea_a05d_606dc7cc25dcrow1_col0\" class=\"data row1 col0\" >0.303571</td>\n",
       "            </tr>\n",
       "            <tr>\n",
       "                        <th id=\"T_1ae21194_901c_11ea_a05d_606dc7cc25dclevel0_row2\" class=\"row_heading level0 row2\" >(14.454, 31.0]</th>\n",
       "                        <td id=\"T_1ae21194_901c_11ea_a05d_606dc7cc25dcrow2_col0\" class=\"data row2 col0\" >0.454955</td>\n",
       "            </tr>\n",
       "            <tr>\n",
       "                        <th id=\"T_1ae21194_901c_11ea_a05d_606dc7cc25dclevel0_row3\" class=\"row_heading level0 row3\" >(31.0, 512.329]</th>\n",
       "                        <td id=\"T_1ae21194_901c_11ea_a05d_606dc7cc25dcrow3_col0\" class=\"data row3 col0\" >0.581081</td>\n",
       "            </tr>\n",
       "    </tbody></table>"
      ],
      "text/plain": [
       "<pandas.io.formats.style.Styler at 0x17131f8b908>"
      ]
     },
     "execution_count": 21,
     "metadata": {},
     "output_type": "execute_result"
    }
   ],
   "source": [
    "data['Rango_pasaje']=pd.qcut(data['Fare'], 4) #creamos 4 rangod para categorizar el precio del pasaje \n",
    "\n",
    "#agrupamos la columna, y obtenemos el promedio del precio del pasasje en relación a la variable objetivo\n",
    "data.groupby(['Rango_pasaje'])['Survived'].mean().to_frame().style.background_gradient(cmap='summer_r')"
   ]
  },
  {
   "cell_type": "markdown",
   "metadata": {},
   "source": [
    "Como se discutió anteriormente, podemos ver claramente que a medida que aumenta el rango de tarifa, aumentan las posibilidades de supervivencia.\n",
    "\n",
    "Ahora no podemos pasar los valores Fare_Range tal como están. Deberíamos convertirlo en valores simples como lo hicimos en Rango de edad"
   ]
  },
  {
   "cell_type": "code",
   "execution_count": 7,
   "metadata": {},
   "outputs": [],
   "source": [
    "data['Categoria_pasaje']=0\n",
    "data.loc[data['Fare']<=7.91,'Categoria_pasaje']=0\n",
    "data.loc[(data['Fare']>7.91)&(data['Fare']<=14.454),'Categoria_pasaje']=1\n",
    "data.loc[(data['Fare']>14.454)&(data['Fare']<=31),'Categoria_pasaje']=2\n",
    "data.loc[(data['Fare']>31)&(data['Fare']<=513),'Categoria_pasaje']=3"
   ]
  },
  {
   "cell_type": "code",
   "execution_count": 8,
   "metadata": {},
   "outputs": [
    {
     "data": {
      "image/png": "[encoded data removed]",
      "text/plain": [
       "<Figure size 430.5x360 with 1 Axes>"
      ]
     },
     "metadata": {
      "needs_background": "light"
     },
     "output_type": "display_data"
    }
   ],
   "source": [
    "#generamos un grafico de factor\n",
    "sns.factorplot('Categoria_pasaje','Survived',data=data,hue='Sex')\n",
    "plt.show()\n",
    "\n",
    "#a medida que aumenta Fare_cat, aumentan las posibilidades de supervivencia. \n",
    "#Esta característica puede convertirse en una característica importante durante el modelado junto con el sexo."
   ]
  },
  {
   "cell_type": "markdown",
   "metadata": {},
   "source": [
    "### Limpieza de datos : Convertir valores String en valores numéricos\n",
    "\n",
    "Dado que no podemos pasar cadenas a un modelo de aprendizaje automático, necesitamos convertir las características loke Sex, Embarked, etc. en valores numéricos."
   ]
  },
  {
   "cell_type": "code",
   "execution_count": 24,
   "metadata": {},
   "outputs": [
    {
     "data": {
      "text/html": [
       "<div>\n",
       "<style scoped>\n",
       "    .dataframe tbody tr th:only-of-type {\n",
       "        vertical-align: middle;\n",
       "    }\n",
       "\n",
       "    .dataframe tbody tr th {\n",
       "        vertical-align: top;\n",
       "    }\n",
       "\n",
       "    .dataframe thead th {\n",
       "        text-align: right;\n",
       "    }\n",
       "</style>\n",
       "<table border=\"1\" class=\"dataframe\">\n",
       "  <thead>\n",
       "    <tr style=\"text-align: right;\">\n",
       "      <th></th>\n",
       "      <th>PassengerId</th>\n",
       "      <th>Survived</th>\n",
       "      <th>Pclass</th>\n",
       "      <th>Name</th>\n",
       "      <th>Sex</th>\n",
       "      <th>Age</th>\n",
       "      <th>SibSp</th>\n",
       "      <th>Parch</th>\n",
       "      <th>Ticket</th>\n",
       "      <th>Fare</th>\n",
       "      <th>Cabin</th>\n",
       "      <th>Embarked</th>\n",
       "      <th>Rango_de_edad</th>\n",
       "      <th>Rango_pasaje</th>\n",
       "      <th>Categoria_pasaje</th>\n",
       "    </tr>\n",
       "  </thead>\n",
       "  <tbody>\n",
       "    <tr>\n",
       "      <td>0</td>\n",
       "      <td>1</td>\n",
       "      <td>0</td>\n",
       "      <td>3</td>\n",
       "      <td>Braund, Mr. Owen Harris</td>\n",
       "      <td>male</td>\n",
       "      <td>22.0</td>\n",
       "      <td>1</td>\n",
       "      <td>0</td>\n",
       "      <td>A/5 21171</td>\n",
       "      <td>7.2500</td>\n",
       "      <td>NaN</td>\n",
       "      <td>S</td>\n",
       "      <td>1</td>\n",
       "      <td>(-0.001, 7.91]</td>\n",
       "      <td>0</td>\n",
       "    </tr>\n",
       "    <tr>\n",
       "      <td>1</td>\n",
       "      <td>2</td>\n",
       "      <td>1</td>\n",
       "      <td>1</td>\n",
       "      <td>Cumings, Mrs. John Bradley (Florence Briggs Th...</td>\n",
       "      <td>female</td>\n",
       "      <td>38.0</td>\n",
       "      <td>1</td>\n",
       "      <td>0</td>\n",
       "      <td>PC 17599</td>\n",
       "      <td>71.2833</td>\n",
       "      <td>C85</td>\n",
       "      <td>C</td>\n",
       "      <td>2</td>\n",
       "      <td>(31.0, 512.329]</td>\n",
       "      <td>3</td>\n",
       "    </tr>\n",
       "    <tr>\n",
       "      <td>2</td>\n",
       "      <td>3</td>\n",
       "      <td>1</td>\n",
       "      <td>3</td>\n",
       "      <td>Heikkinen, Miss. Laina</td>\n",
       "      <td>female</td>\n",
       "      <td>26.0</td>\n",
       "      <td>0</td>\n",
       "      <td>0</td>\n",
       "      <td>STON/O2. 3101282</td>\n",
       "      <td>7.9250</td>\n",
       "      <td>NaN</td>\n",
       "      <td>S</td>\n",
       "      <td>1</td>\n",
       "      <td>(7.91, 14.454]</td>\n",
       "      <td>1</td>\n",
       "    </tr>\n",
       "  </tbody>\n",
       "</table>\n",
       "</div>"
      ],
      "text/plain": [
       "   PassengerId  Survived  Pclass  \\\n",
       "0            1         0       3   \n",
       "1            2         1       1   \n",
       "2            3         1       3   \n",
       "\n",
       "                                                Name     Sex   Age  SibSp  \\\n",
       "0                            Braund, Mr. Owen Harris    male  22.0      1   \n",
       "1  Cumings, Mrs. John Bradley (Florence Briggs Th...  female  38.0      1   \n",
       "2                             Heikkinen, Miss. Laina  female  26.0      0   \n",
       "\n",
       "   Parch            Ticket     Fare Cabin Embarked  Rango_de_edad  \\\n",
       "0      0         A/5 21171   7.2500   NaN        S              1   \n",
       "1      0          PC 17599  71.2833   C85        C              2   \n",
       "2      0  STON/O2. 3101282   7.9250   NaN        S              1   \n",
       "\n",
       "      Rango_pasaje  Categoria_pasaje  \n",
       "0   (-0.001, 7.91]                 0  \n",
       "1  (31.0, 512.329]                 3  \n",
       "2   (7.91, 14.454]                 1  "
      ]
     },
     "execution_count": 24,
     "metadata": {},
     "output_type": "execute_result"
    }
   ],
   "source": [
    "#revisamos los datos \n",
    "data.head(3)\n",
    "\n",
    "#sexo y puerta de embarque son variables de tipos string"
   ]
  },
  {
   "cell_type": "code",
   "execution_count": 25,
   "metadata": {},
   "outputs": [],
   "source": [
    "data['Sex'].replace(['male','female'],[0,1],inplace=True)\n",
    "data['Embarked'].replace(['S','C','Q'],[0,1,2],inplace=True)"
   ]
  },
  {
   "cell_type": "code",
   "execution_count": 26,
   "metadata": {},
   "outputs": [
    {
     "data": {
      "text/html": [
       "<div>\n",
       "<style scoped>\n",
       "    .dataframe tbody tr th:only-of-type {\n",
       "        vertical-align: middle;\n",
       "    }\n",
       "\n",
       "    .dataframe tbody tr th {\n",
       "        vertical-align: top;\n",
       "    }\n",
       "\n",
       "    .dataframe thead th {\n",
       "        text-align: right;\n",
       "    }\n",
       "</style>\n",
       "<table border=\"1\" class=\"dataframe\">\n",
       "  <thead>\n",
       "    <tr style=\"text-align: right;\">\n",
       "      <th></th>\n",
       "      <th>PassengerId</th>\n",
       "      <th>Survived</th>\n",
       "      <th>Pclass</th>\n",
       "      <th>Name</th>\n",
       "      <th>Sex</th>\n",
       "      <th>Age</th>\n",
       "      <th>SibSp</th>\n",
       "      <th>Parch</th>\n",
       "      <th>Ticket</th>\n",
       "      <th>Fare</th>\n",
       "      <th>Cabin</th>\n",
       "      <th>Embarked</th>\n",
       "      <th>Rango_de_edad</th>\n",
       "      <th>Rango_pasaje</th>\n",
       "      <th>Categoria_pasaje</th>\n",
       "    </tr>\n",
       "  </thead>\n",
       "  <tbody>\n",
       "    <tr>\n",
       "      <td>0</td>\n",
       "      <td>1</td>\n",
       "      <td>0</td>\n",
       "      <td>3</td>\n",
       "      <td>Braund, Mr. Owen Harris</td>\n",
       "      <td>0</td>\n",
       "      <td>22.0</td>\n",
       "      <td>1</td>\n",
       "      <td>0</td>\n",
       "      <td>A/5 21171</td>\n",
       "      <td>7.2500</td>\n",
       "      <td>NaN</td>\n",
       "      <td>0.0</td>\n",
       "      <td>1</td>\n",
       "      <td>(-0.001, 7.91]</td>\n",
       "      <td>0</td>\n",
       "    </tr>\n",
       "    <tr>\n",
       "      <td>1</td>\n",
       "      <td>2</td>\n",
       "      <td>1</td>\n",
       "      <td>1</td>\n",
       "      <td>Cumings, Mrs. John Bradley (Florence Briggs Th...</td>\n",
       "      <td>1</td>\n",
       "      <td>38.0</td>\n",
       "      <td>1</td>\n",
       "      <td>0</td>\n",
       "      <td>PC 17599</td>\n",
       "      <td>71.2833</td>\n",
       "      <td>C85</td>\n",
       "      <td>1.0</td>\n",
       "      <td>2</td>\n",
       "      <td>(31.0, 512.329]</td>\n",
       "      <td>3</td>\n",
       "    </tr>\n",
       "    <tr>\n",
       "      <td>2</td>\n",
       "      <td>3</td>\n",
       "      <td>1</td>\n",
       "      <td>3</td>\n",
       "      <td>Heikkinen, Miss. Laina</td>\n",
       "      <td>1</td>\n",
       "      <td>26.0</td>\n",
       "      <td>0</td>\n",
       "      <td>0</td>\n",
       "      <td>STON/O2. 3101282</td>\n",
       "      <td>7.9250</td>\n",
       "      <td>NaN</td>\n",
       "      <td>0.0</td>\n",
       "      <td>1</td>\n",
       "      <td>(7.91, 14.454]</td>\n",
       "      <td>1</td>\n",
       "    </tr>\n",
       "  </tbody>\n",
       "</table>\n",
       "</div>"
      ],
      "text/plain": [
       "   PassengerId  Survived  Pclass  \\\n",
       "0            1         0       3   \n",
       "1            2         1       1   \n",
       "2            3         1       3   \n",
       "\n",
       "                                                Name  Sex   Age  SibSp  Parch  \\\n",
       "0                            Braund, Mr. Owen Harris    0  22.0      1      0   \n",
       "1  Cumings, Mrs. John Bradley (Florence Briggs Th...    1  38.0      1      0   \n",
       "2                             Heikkinen, Miss. Laina    1  26.0      0      0   \n",
       "\n",
       "             Ticket     Fare Cabin  Embarked  Rango_de_edad     Rango_pasaje  \\\n",
       "0         A/5 21171   7.2500   NaN       0.0              1   (-0.001, 7.91]   \n",
       "1          PC 17599  71.2833   C85       1.0              2  (31.0, 512.329]   \n",
       "2  STON/O2. 3101282   7.9250   NaN       0.0              1   (7.91, 14.454]   \n",
       "\n",
       "   Categoria_pasaje  \n",
       "0                 0  \n",
       "1                 3  \n",
       "2                 1  "
      ]
     },
     "execution_count": 26,
     "metadata": {},
     "output_type": "execute_result"
    }
   ],
   "source": [
    "data.head(3)"
   ]
  },
  {
   "cell_type": "markdown",
   "metadata": {},
   "source": [
    "### Eliminar características innecesarias\n",
    "\n",
    "* PassengerId -> No se puede clasificar.\n",
    "* Nombre      -> No necesitamos el nombre, ya que no se puede convertir en ningún valor categórico.\n",
    "* Edad        -> Tenemos la columna Rango de edad, por lo que no es necesario.\n",
    "* Ticket      -> Es una cadena aleatoria que no se puede clasificar.\n",
    "* Pasaje      -> Tenemos la función Categoria_pasaje, por lo que no es necesario\n",
    "* Cabina      -> Muchos valores de NaN y también muchos pasajeros tienen varias cabinas. Esta es una característica inútil.\n",
    "* Rango_pasaje-> Tenemos la columna Categoria_pasaje .\n"
   ]
  },
  {
   "cell_type": "code",
   "execution_count": 27,
   "metadata": {},
   "outputs": [],
   "source": [
    "data.drop(['PassengerId','Name','Age','Ticket','Fare','Cabin','Rango_pasaje',],axis=1,inplace=True)"
   ]
  },
  {
   "cell_type": "code",
   "execution_count": 28,
   "metadata": {},
   "outputs": [
    {
     "data": {
      "text/html": [
       "<div>\n",
       "<style scoped>\n",
       "    .dataframe tbody tr th:only-of-type {\n",
       "        vertical-align: middle;\n",
       "    }\n",
       "\n",
       "    .dataframe tbody tr th {\n",
       "        vertical-align: top;\n",
       "    }\n",
       "\n",
       "    .dataframe thead th {\n",
       "        text-align: right;\n",
       "    }\n",
       "</style>\n",
       "<table border=\"1\" class=\"dataframe\">\n",
       "  <thead>\n",
       "    <tr style=\"text-align: right;\">\n",
       "      <th></th>\n",
       "      <th>Survived</th>\n",
       "      <th>Pclass</th>\n",
       "      <th>Sex</th>\n",
       "      <th>SibSp</th>\n",
       "      <th>Parch</th>\n",
       "      <th>Embarked</th>\n",
       "      <th>Rango_de_edad</th>\n",
       "      <th>Categoria_pasaje</th>\n",
       "    </tr>\n",
       "  </thead>\n",
       "  <tbody>\n",
       "    <tr>\n",
       "      <td>0</td>\n",
       "      <td>0</td>\n",
       "      <td>3</td>\n",
       "      <td>0</td>\n",
       "      <td>1</td>\n",
       "      <td>0</td>\n",
       "      <td>0.0</td>\n",
       "      <td>1</td>\n",
       "      <td>0</td>\n",
       "    </tr>\n",
       "    <tr>\n",
       "      <td>1</td>\n",
       "      <td>1</td>\n",
       "      <td>1</td>\n",
       "      <td>1</td>\n",
       "      <td>1</td>\n",
       "      <td>0</td>\n",
       "      <td>1.0</td>\n",
       "      <td>2</td>\n",
       "      <td>3</td>\n",
       "    </tr>\n",
       "    <tr>\n",
       "      <td>2</td>\n",
       "      <td>1</td>\n",
       "      <td>3</td>\n",
       "      <td>1</td>\n",
       "      <td>0</td>\n",
       "      <td>0</td>\n",
       "      <td>0.0</td>\n",
       "      <td>1</td>\n",
       "      <td>1</td>\n",
       "    </tr>\n",
       "  </tbody>\n",
       "</table>\n",
       "</div>"
      ],
      "text/plain": [
       "   Survived  Pclass  Sex  SibSp  Parch  Embarked  Rango_de_edad  \\\n",
       "0         0       3    0      1      0       0.0              1   \n",
       "1         1       1    1      1      0       1.0              2   \n",
       "2         1       3    1      0      0       0.0              1   \n",
       "\n",
       "   Categoria_pasaje  \n",
       "0                 0  \n",
       "1                 3  \n",
       "2                 1  "
      ]
     },
     "execution_count": 28,
     "metadata": {},
     "output_type": "execute_result"
    }
   ],
   "source": [
    "#revisamos nuestros datos finales\n",
    "data.head(3)"
   ]
  },
  {
   "cell_type": "code",
   "execution_count": 29,
   "metadata": {},
   "outputs": [
    {
     "data": {
      "text/plain": [
       "Survived            1.000000\n",
       "Sex                 0.543351\n",
       "Categoria_pasaje    0.295875\n",
       "Embarked            0.108669\n",
       "Parch               0.081629\n",
       "Rango_de_edad       0.001254\n",
       "SibSp              -0.035322\n",
       "Pclass             -0.338481\n",
       "Name: Survived, dtype: float64"
      ]
     },
     "execution_count": 29,
     "metadata": {},
     "output_type": "execute_result"
    }
   ],
   "source": [
    "data.corr()['Survived'].sort_values(ascending=False)"
   ]
  },
  {
   "cell_type": "markdown",
   "metadata": {},
   "source": [
    "## Tratamiento de datos nulos\n",
    "\n",
    "* podemos eliminarlos\n",
    "* podemos dejarlos como están\n",
    "* podemos deducirlos"
   ]
  },
  {
   "cell_type": "code",
   "execution_count": 30,
   "metadata": {},
   "outputs": [
    {
     "data": {
      "text/plain": [
       "Survived            0\n",
       "Pclass              0\n",
       "Sex                 0\n",
       "SibSp               0\n",
       "Parch               0\n",
       "Embarked            2\n",
       "Rango_de_edad       0\n",
       "Categoria_pasaje    0\n",
       "dtype: int64"
      ]
     },
     "execution_count": 30,
     "metadata": {},
     "output_type": "execute_result"
    }
   ],
   "source": [
    "#revisamos si hay datos nulos\n",
    "data.isnull().sum()\n"
   ]
  },
  {
   "cell_type": "code",
   "execution_count": 31,
   "metadata": {},
   "outputs": [
    {
     "data": {
      "text/html": [
       "<div>\n",
       "<style scoped>\n",
       "    .dataframe tbody tr th:only-of-type {\n",
       "        vertical-align: middle;\n",
       "    }\n",
       "\n",
       "    .dataframe tbody tr th {\n",
       "        vertical-align: top;\n",
       "    }\n",
       "\n",
       "    .dataframe thead th {\n",
       "        text-align: right;\n",
       "    }\n",
       "</style>\n",
       "<table border=\"1\" class=\"dataframe\">\n",
       "  <thead>\n",
       "    <tr style=\"text-align: right;\">\n",
       "      <th></th>\n",
       "      <th>Survived</th>\n",
       "      <th>Pclass</th>\n",
       "      <th>Sex</th>\n",
       "      <th>SibSp</th>\n",
       "      <th>Parch</th>\n",
       "      <th>Embarked</th>\n",
       "      <th>Rango_de_edad</th>\n",
       "      <th>Categoria_pasaje</th>\n",
       "    </tr>\n",
       "  </thead>\n",
       "  <tbody>\n",
       "    <tr>\n",
       "      <td>61</td>\n",
       "      <td>1</td>\n",
       "      <td>1</td>\n",
       "      <td>1</td>\n",
       "      <td>0</td>\n",
       "      <td>0</td>\n",
       "      <td>NaN</td>\n",
       "      <td>2</td>\n",
       "      <td>3</td>\n",
       "    </tr>\n",
       "    <tr>\n",
       "      <td>829</td>\n",
       "      <td>1</td>\n",
       "      <td>1</td>\n",
       "      <td>1</td>\n",
       "      <td>0</td>\n",
       "      <td>0</td>\n",
       "      <td>NaN</td>\n",
       "      <td>3</td>\n",
       "      <td>3</td>\n",
       "    </tr>\n",
       "  </tbody>\n",
       "</table>\n",
       "</div>"
      ],
      "text/plain": [
       "     Survived  Pclass  Sex  SibSp  Parch  Embarked  Rango_de_edad  \\\n",
       "61          1       1    1      0      0       NaN              2   \n",
       "829         1       1    1      0      0       NaN              3   \n",
       "\n",
       "     Categoria_pasaje  \n",
       "61                  3  \n",
       "829                 3  "
      ]
     },
     "execution_count": 31,
     "metadata": {},
     "output_type": "execute_result"
    }
   ],
   "source": [
    "#revisamos en donde están estos valores\n",
    "data[data['Embarked'].isnull() ] "
   ]
  },
  {
   "cell_type": "code",
   "execution_count": 32,
   "metadata": {},
   "outputs": [
    {
     "data": {
      "image/png": "[encoded data removed]",
      "text/plain": [
       "<Figure size 360x432 with 1 Axes>"
      ]
     },
     "metadata": {
      "needs_background": "light"
     },
     "output_type": "display_data"
    }
   ],
   "source": [
    "#ya que son solo 2, podríamos predecir la puerta de embarque en relación a la mayor cantidad de personas por puerta \n",
    "\n",
    "f,ax=plt.subplots(1,1,figsize=(5,6))\n",
    "\n",
    "sns.countplot('Embarked',data=data,ax=ax)\n",
    "ax.set_title('Número de pasajeros que abordaron')\n",
    "plt.show()\n"
   ]
  },
  {
   "cell_type": "code",
   "execution_count": 33,
   "metadata": {},
   "outputs": [],
   "source": [
    "#llenamos los campos nulos con la categoría con mayor cantidad de registros\n",
    "#en este caso el mayor numero de pasajeros abordaron por la puerta de embarque cero \n",
    "\n",
    "data['Embarked'].fillna(0,inplace=True)"
   ]
  },
  {
   "cell_type": "code",
   "execution_count": 34,
   "metadata": {},
   "outputs": [
    {
     "data": {
      "text/plain": [
       "Survived            0\n",
       "Pclass              0\n",
       "Sex                 0\n",
       "SibSp               0\n",
       "Parch               0\n",
       "Embarked            0\n",
       "Rango_de_edad       0\n",
       "Categoria_pasaje    0\n",
       "dtype: int64"
      ]
     },
     "execution_count": 34,
     "metadata": {},
     "output_type": "execute_result"
    }
   ],
   "source": [
    "#revisamos nuevamente si hay datos nulos\n",
    "data.isnull().sum()"
   ]
  },
  {
   "cell_type": "code",
   "execution_count": 62,
   "metadata": {},
   "outputs": [],
   "source": [
    "#exportamos nuestro archivo a csv\n",
    "data.to_csv(\"cleaning_titanic.csv\")"
   ]
  },
  {
   "cell_type": "code",
   "execution_count": 63,
   "metadata": {},
   "outputs": [],
   "source": [
    "#exportamos nuestro archivo a csv\n",
    "data.to_excel(\"cleaning_titanic.xlsx\")"
   ]
  },
  {
   "cell_type": "code",
   "execution_count": null,
   "metadata": {},
   "outputs": [],
   "source": []
  }
 ],
 "metadata": {
  "kernelspec": {
   "display_name": "Python 3",
   "language": "python",
   "name": "python3"
  },
  "language_info": {
   "codemirror_mode": {
    "name": "ipython",
    "version": 3
   },
   "file_extension": ".py",
   "mimetype": "text/x-python",
   "name": "python",
   "nbconvert_exporter": "python",
   "pygments_lexer": "ipython3",
   "version": "3.8.5"
  }
 },
 "nbformat": 4,
 "nbformat_minor": 2
}
